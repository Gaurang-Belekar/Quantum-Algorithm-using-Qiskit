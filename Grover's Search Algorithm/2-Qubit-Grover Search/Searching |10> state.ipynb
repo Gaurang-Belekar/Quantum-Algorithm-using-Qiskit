{
 "cells": [
  {
   "cell_type": "code",
   "execution_count": 1,
   "id": "c984c047",
   "metadata": {},
   "outputs": [],
   "source": [
    "from qiskit import *\n",
    "from qiskit.visualization import plot_histogram\n",
    "%matplotlib inline"
   ]
  },
  {
   "cell_type": "code",
   "execution_count": 3,
   "id": "2a169d1b",
   "metadata": {},
   "outputs": [
    {
     "data": {
      "image/png": "[encoded data removed]",
      "text/plain": [
       "<Figure size 146.652x204.68 with 1 Axes>"
      ]
     },
     "execution_count": 3,
     "metadata": {},
     "output_type": "execute_result"
    }
   ],
   "source": [
    "# importing set of data of |00> ,|01>, |10>, |11>\n",
    "\n",
    "qc = QuantumCircuit(2,2)\n",
    "qc.h([0,1])\n",
    "qc.draw(output = 'mpl')"
   ]
  },
  {
   "cell_type": "code",
   "execution_count": 4,
   "id": "21366461",
   "metadata": {},
   "outputs": [],
   "source": [
    "# Creating an oracle for search parameter\n",
    "# Here our search parameter is will |w> state that we want to find. "
   ]
  },
  {
   "cell_type": "code",
   "execution_count": 5,
   "id": "64bd59b8",
   "metadata": {},
   "outputs": [],
   "source": [
    "# So in the given parameter of |S> = 1/2 (|00>+|01>+|10>+|11>)\n",
    "# We will change the phase of |10> to - |10>"
   ]
  },
  {
   "cell_type": "code",
   "execution_count": 7,
   "id": "5cc59310",
   "metadata": {},
   "outputs": [
    {
     "data": {
      "text/plain": [
       "Instruction(name='oracle', num_qubits=2, num_clbits=0, params=[])"
      ]
     },
     "execution_count": 7,
     "metadata": {},
     "output_type": "execute_result"
    }
   ],
   "source": [
    "# So our oracle will be\n",
    "\n",
    "oracle = QuantumCircuit(2, name ='oracle')\n",
    "oracle.cx(1,0)\n",
    "oracle.cz(0,1)\n",
    "oracle.cx(1,0)\n",
    "oracle.to_gate()"
   ]
  },
  {
   "cell_type": "code",
   "execution_count": 8,
   "id": "d45cae74",
   "metadata": {},
   "outputs": [],
   "source": [
    "# So the SEarch parameter will look like:"
   ]
  },
  {
   "cell_type": "code",
   "execution_count": 9,
   "id": "0ccc8b23",
   "metadata": {},
   "outputs": [
    {
     "data": {
      "image/png": "[encoded data removed]",
      "text/plain": [
       "<Figure size 267.052x144.48 with 1 Axes>"
      ]
     },
     "execution_count": 9,
     "metadata": {},
     "output_type": "execute_result"
    }
   ],
   "source": [
    "oracle.draw(output ='mpl')"
   ]
  },
  {
   "cell_type": "code",
   "execution_count": 10,
   "id": "0c70390c",
   "metadata": {},
   "outputs": [
    {
     "data": {
      "image/png": "[encoded data removed]",
      "text/plain": [
       "<Figure size 327.252x144.48 with 1 Axes>"
      ]
     },
     "execution_count": 10,
     "metadata": {},
     "output_type": "execute_result"
    }
   ],
   "source": [
    "# Now we have isolated with oracle of what we want to search, now amplituding the search to show its presence\n",
    "\n",
    "# To do so we will use diffuser opreator for the same.\n",
    "\n",
    "#The diffuser opreator will read as follows\n",
    "\n",
    "diffuser = QuantumCircuit(2, name = 'diffuser')\n",
    "\n",
    "diffuser.h([0,1])\n",
    "diffuser.z([0,1])\n",
    "diffuser.cz(0,1)\n",
    "diffuser.h([0,1])\n",
    "diffuser.to_gate()\n",
    "diffuser.draw(output ='mpl')"
   ]
  },
  {
   "cell_type": "code",
   "execution_count": 11,
   "id": "c0d436df",
   "metadata": {},
   "outputs": [
    {
     "data": {
      "image/png": "[encoded data removed]",
      "text/plain": [
       "<Figure size 568.052x204.68 with 1 Axes>"
      ]
     },
     "execution_count": 11,
     "metadata": {},
     "output_type": "execute_result"
    }
   ],
   "source": [
    "# Now we have all the pieces in place lets combine them to search our parameter in give domain\n",
    "\n",
    "#Since we have already created an domain, now we have to apply our oracle+diffuser\n",
    "\n",
    "qc.append(oracle,[0,1])\n",
    "qc.append(diffuser,[0,1])\n",
    "\n",
    "qc.barrier()\n",
    "\n",
    "qc.measure([0,1], [0,1])\n",
    "\n",
    "qc.draw(output= 'mpl')"
   ]
  },
  {
   "cell_type": "code",
   "execution_count": 12,
   "id": "eef32b58",
   "metadata": {},
   "outputs": [],
   "source": [
    "# Lets check out if we measured our parameter found in domain or not"
   ]
  },
  {
   "cell_type": "code",
   "execution_count": 14,
   "id": "e4b08fde",
   "metadata": {},
   "outputs": [
    {
     "data": {
      "image/png": "[encoded data removed]",
      "text/plain": [
       "<Figure size 504x360 with 1 Axes>"
      ]
     },
     "execution_count": 14,
     "metadata": {},
     "output_type": "execute_result"
    }
   ],
   "source": [
    "backend = Aer.get_backend('qasm_simulator')\n",
    "\n",
    "result = execute(qc,backend,shots =1024).result()\n",
    "\n",
    "counts = result.get_counts()\n",
    "plot_histogram(counts)"
   ]
  },
  {
   "cell_type": "code",
   "execution_count": null,
   "id": "88301633",
   "metadata": {},
   "outputs": [],
   "source": []
  }
 ],
 "metadata": {
  "kernelspec": {
   "display_name": "Python 3 (ipykernel)",
   "language": "python",
   "name": "python3"
  },
  "language_info": {
   "codemirror_mode": {
    "name": "ipython",
    "version": 3
   },
   "file_extension": ".py",
   "mimetype": "text/x-python",
   "name": "python",
   "nbconvert_exporter": "python",
   "pygments_lexer": "ipython3",
   "version": "3.9.7"
  }
 },
 "nbformat": 4,
 "nbformat_minor": 5
}
