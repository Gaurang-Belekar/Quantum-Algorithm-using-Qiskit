{
 "cells": [
  {
   "cell_type": "code",
   "execution_count": 1,
   "id": "b904c54e",
   "metadata": {},
   "outputs": [],
   "source": [
    "from qiskit import *\n",
    "import matplotlib.pyplot as plt\n",
    "import numpy as np\n",
    "\n"
   ]
  },
  {
   "cell_type": "code",
   "execution_count": 3,
   "id": "e161ffea",
   "metadata": {},
   "outputs": [
    {
     "data": {
      "text/html": [
       "<pre style=\"word-wrap: normal;white-space: pre;background: #fff0;line-height: 1.1;font-family: &quot;Courier New&quot;,Courier,monospace\">     ┌───┐   ┌───┐\n",
       "q_0: ┤ X ├─■─┤ X ├\n",
       "     ├───┤ │ ├───┤\n",
       "q_1: ┤ X ├─■─┤ X ├\n",
       "     └───┘   └───┘</pre>"
      ],
      "text/plain": [
       "     ┌───┐   ┌───┐\n",
       "q_0: ┤ X ├─■─┤ X ├\n",
       "     ├───┤ │ ├───┤\n",
       "q_1: ┤ X ├─■─┤ X ├\n",
       "     └───┘   └───┘"
      ]
     },
     "execution_count": 3,
     "metadata": {},
     "output_type": "execute_result"
    }
   ],
   "source": [
    "#Defining Oracle of the circuit\n",
    "\n",
    "oracle = QuantumCircuit(2,name ='oracle')\n",
    "oracle.x([0,1])\n",
    "oracle.cz(0,1)\n",
    "oracle.x([0,1])\n",
    "oracle.to_gate()\n",
    "oracle.draw()"
   ]
  },
  {
   "cell_type": "code",
   "execution_count": 5,
   "id": "330cdb2e",
   "metadata": {},
   "outputs": [
    {
     "data": {
      "text/html": [
       "<pre style=\"word-wrap: normal;white-space: pre;background: #fff0;line-height: 1.1;font-family: &quot;Courier New&quot;,Courier,monospace\">     ┌───┐┌───┐   ┌───┐\n",
       "q_0: ┤ H ├┤ Z ├─■─┤ H ├\n",
       "     ├───┤├───┤ │ ├───┤\n",
       "q_1: ┤ H ├┤ Z ├─■─┤ H ├\n",
       "     └───┘└───┘   └───┘</pre>"
      ],
      "text/plain": [
       "     ┌───┐┌───┐   ┌───┐\n",
       "q_0: ┤ H ├┤ Z ├─■─┤ H ├\n",
       "     ├───┤├───┤ │ ├───┤\n",
       "q_1: ┤ H ├┤ Z ├─■─┤ H ├\n",
       "     └───┘└───┘   └───┘"
      ]
     },
     "execution_count": 5,
     "metadata": {},
     "output_type": "execute_result"
    }
   ],
   "source": [
    "diffuser = QuantumCircuit(2, name = 'diffuser')\n",
    "\n",
    "diffuser.h([0,1])\n",
    "diffuser.z([0,1])\n",
    "diffuser.cz(0,1)\n",
    "diffuser.h([0,1])\n",
    "\n",
    "diffuser.to_gate()\n",
    "\n",
    "diffuser.draw()"
   ]
  },
  {
   "cell_type": "code",
   "execution_count": 6,
   "id": "c4f0a3b6",
   "metadata": {},
   "outputs": [
    {
     "data": {
      "text/html": [
       "<pre style=\"word-wrap: normal;white-space: pre;background: #fff0;line-height: 1.1;font-family: &quot;Courier New&quot;,Courier,monospace\">     ┌───┐┌─────────┐┌───────────┐ ░ ┌─┐   \n",
       "q_0: ┤ H ├┤0        ├┤0          ├─░─┤M├───\n",
       "     ├───┤│  oracle ││  diffuser │ ░ └╥┘┌─┐\n",
       "q_1: ┤ H ├┤1        ├┤1          ├─░──╫─┤M├\n",
       "     └───┘└─────────┘└───────────┘ ░  ║ └╥┘\n",
       "c: 2/═════════════════════════════════╩══╩═\n",
       "                                      0  1 </pre>"
      ],
      "text/plain": [
       "     ┌───┐┌─────────┐┌───────────┐ ░ ┌─┐   \n",
       "q_0: ┤ H ├┤0        ├┤0          ├─░─┤M├───\n",
       "     ├───┤│  oracle ││  diffuser │ ░ └╥┘┌─┐\n",
       "q_1: ┤ H ├┤1        ├┤1          ├─░──╫─┤M├\n",
       "     └───┘└─────────┘└───────────┘ ░  ║ └╥┘\n",
       "c: 2/═════════════════════════════════╩══╩═\n",
       "                                      0  1 "
      ]
     },
     "execution_count": 6,
     "metadata": {},
     "output_type": "execute_result"
    }
   ],
   "source": [
    "# Creating the Quantum Circuit with Search Parameter |w> =|00> which is the oracle\n",
    "\n",
    "qc = QuantumCircuit(2,2)\n",
    "qc.h([0,1]) #Quantum Circuit with domain\n",
    "\n",
    "qc.append(oracle, [0,1])\n",
    "qc.append(diffuser, [0,1])\n",
    "\n",
    "qc.barrier()\n",
    "\n",
    "qc.measure([0,1],[0,1])\n",
    "\n",
    "qc.draw()"
   ]
  },
  {
   "cell_type": "code",
   "execution_count": null,
   "id": "5e3d2831",
   "metadata": {},
   "outputs": [],
   "source": [
    "backend = Aer.get_backend('qasm_simulator')\n",
    "result = execute(qc,backend,shots = 1024).result()\n",
    "\n",
    "counts = 1"
   ]
  }
 ],
 "metadata": {
  "kernelspec": {
   "display_name": "Python 3 (ipykernel)",
   "language": "python",
   "name": "python3"
  },
  "language_info": {
   "codemirror_mode": {
    "name": "ipython",
    "version": 3
   },
   "file_extension": ".py",
   "mimetype": "text/x-python",
   "name": "python",
   "nbconvert_exporter": "python",
   "pygments_lexer": "ipython3",
   "version": "3.9.7"
  }
 },
 "nbformat": 4,
 "nbformat_minor": 5
}
