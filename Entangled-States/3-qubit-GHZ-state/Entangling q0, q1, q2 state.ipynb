{
 "cells": [
  {
   "cell_type": "code",
   "execution_count": 1,
   "id": "3d5dd72c",
   "metadata": {},
   "outputs": [],
   "source": [
    "from qiskit import *\n",
    "from qiskit.visualization import plot_histogram\n",
    "%matplotlib inline"
   ]
  },
  {
   "cell_type": "code",
   "execution_count": 2,
   "id": "00f4c391",
   "metadata": {},
   "outputs": [
    {
     "data": {
      "text/plain": [
       "<qiskit.circuit.instructionset.InstructionSet at 0x7f8f400b61c0>"
      ]
     },
     "execution_count": 2,
     "metadata": {},
     "output_type": "execute_result"
    }
   ],
   "source": [
    "qc = QuantumCircuit(3,3)\n",
    "\n",
    "\n",
    "qc.h(0)"
   ]
  },
  {
   "cell_type": "code",
   "execution_count": 3,
   "id": "fa17b6c2",
   "metadata": {},
   "outputs": [
    {
     "data": {
      "text/plain": [
       "<qiskit.circuit.instructionset.InstructionSet at 0x7f8f301c35c0>"
      ]
     },
     "execution_count": 3,
     "metadata": {},
     "output_type": "execute_result"
    }
   ],
   "source": [
    "qc.cx([0,0],[1,2])"
   ]
  },
  {
   "cell_type": "code",
   "execution_count": 4,
   "id": "1ba0d737",
   "metadata": {},
   "outputs": [
    {
     "data": {
      "text/plain": [
       "<qiskit.circuit.instructionset.InstructionSet at 0x7f8f53f33bc0>"
      ]
     },
     "execution_count": 4,
     "metadata": {},
     "output_type": "execute_result"
    }
   ],
   "source": [
    "qc.barrier()"
   ]
  },
  {
   "cell_type": "code",
   "execution_count": 5,
   "id": "e28281c0",
   "metadata": {},
   "outputs": [
    {
     "data": {
      "text/html": [
       "<pre style=\"word-wrap: normal;white-space: pre;background: #fff0;line-height: 1.1;font-family: &quot;Courier New&quot;,Courier,monospace\">     ┌───┐           ░ \n",
       "q_0: ┤ H ├──■────■───░─\n",
       "     └───┘┌─┴─┐  │   ░ \n",
       "q_1: ─────┤ X ├──┼───░─\n",
       "          └───┘┌─┴─┐ ░ \n",
       "q_2: ──────────┤ X ├─░─\n",
       "               └───┘ ░ \n",
       "c: 3/══════════════════\n",
       "                       </pre>"
      ],
      "text/plain": [
       "     ┌───┐           ░ \n",
       "q_0: ┤ H ├──■────■───░─\n",
       "     └───┘┌─┴─┐  │   ░ \n",
       "q_1: ─────┤ X ├──┼───░─\n",
       "          └───┘┌─┴─┐ ░ \n",
       "q_2: ──────────┤ X ├─░─\n",
       "               └───┘ ░ \n",
       "c: 3/══════════════════\n",
       "                       "
      ]
     },
     "execution_count": 5,
     "metadata": {},
     "output_type": "execute_result"
    }
   ],
   "source": [
    "qc.draw()"
   ]
  },
  {
   "cell_type": "code",
   "execution_count": 6,
   "id": "f238f8f1",
   "metadata": {},
   "outputs": [
    {
     "data": {
      "text/plain": [
       "<qiskit.circuit.instructionset.InstructionSet at 0x7f8f53f4e3c0>"
      ]
     },
     "execution_count": 6,
     "metadata": {},
     "output_type": "execute_result"
    }
   ],
   "source": [
    "qc.h(0)\n",
    "qc.x(0)\n",
    "qc.cx([0,0],[2,1])"
   ]
  },
  {
   "cell_type": "code",
   "execution_count": 7,
   "id": "3d219487",
   "metadata": {},
   "outputs": [
    {
     "data": {
      "text/plain": [
       "<qiskit.circuit.instructionset.InstructionSet at 0x7f8f53f33880>"
      ]
     },
     "execution_count": 7,
     "metadata": {},
     "output_type": "execute_result"
    }
   ],
   "source": [
    "qc.h(0)"
   ]
  },
  {
   "cell_type": "code",
   "execution_count": 8,
   "id": "876c9ff4",
   "metadata": {},
   "outputs": [
    {
     "data": {
      "text/plain": [
       "<qiskit.circuit.instructionset.InstructionSet at 0x7f8f53f58ec0>"
      ]
     },
     "execution_count": 8,
     "metadata": {},
     "output_type": "execute_result"
    }
   ],
   "source": [
    "qc.barrier()"
   ]
  },
  {
   "cell_type": "code",
   "execution_count": 9,
   "id": "a5396a87",
   "metadata": {},
   "outputs": [
    {
     "data": {
      "text/html": [
       "<pre style=\"word-wrap: normal;white-space: pre;background: #fff0;line-height: 1.1;font-family: &quot;Courier New&quot;,Courier,monospace\">     ┌───┐           ░ ┌───┐┌───┐          ┌───┐ ░ ┌─┐       ░ ┌─┐      \n",
       "q_0: ┤ H ├──■────■───░─┤ H ├┤ X ├──■────■──┤ H ├─░─┤M├───────░─┤M├──────\n",
       "     └───┘┌─┴─┐  │   ░ └───┘└───┘  │  ┌─┴─┐└───┘ ░ └╥┘┌─┐    ░ └╥┘┌─┐   \n",
       "q_1: ─────┤ X ├──┼───░─────────────┼──┤ X ├──────░──╫─┤M├────░──╫─┤M├───\n",
       "          └───┘┌─┴─┐ ░           ┌─┴─┐└───┘      ░  ║ └╥┘┌─┐ ░  ║ └╥┘┌─┐\n",
       "q_2: ──────────┤ X ├─░───────────┤ X ├───────────░──╫──╫─┤M├─░──╫──╫─┤M├\n",
       "               └───┘ ░           └───┘           ░  ║  ║ └╥┘ ░  ║  ║ └╥┘\n",
       "c: 3/═══════════════════════════════════════════════╩══╩══╩═════╩══╩══╩═\n",
       "                                                    0  1  2     0  1  2 </pre>"
      ],
      "text/plain": [
       "     ┌───┐           ░ ┌───┐┌───┐          ┌───┐ ░ ┌─┐       ░ ┌─┐      \n",
       "q_0: ┤ H ├──■────■───░─┤ H ├┤ X ├──■────■──┤ H ├─░─┤M├───────░─┤M├──────\n",
       "     └───┘┌─┴─┐  │   ░ └───┘└───┘  │  ┌─┴─┐└───┘ ░ └╥┘┌─┐    ░ └╥┘┌─┐   \n",
       "q_1: ─────┤ X ├──┼───░─────────────┼──┤ X ├──────░──╫─┤M├────░──╫─┤M├───\n",
       "          └───┘┌─┴─┐ ░           ┌─┴─┐└───┘      ░  ║ └╥┘┌─┐ ░  ║ └╥┘┌─┐\n",
       "q_2: ──────────┤ X ├─░───────────┤ X ├───────────░──╫──╫─┤M├─░──╫──╫─┤M├\n",
       "               └───┘ ░           └───┘           ░  ║  ║ └╥┘ ░  ║  ║ └╥┘\n",
       "c: 3/═══════════════════════════════════════════════╩══╩══╩═════╩══╩══╩═\n",
       "                                                    0  1  2     0  1  2 "
      ]
     },
     "execution_count": 9,
     "metadata": {},
     "output_type": "execute_result"
    }
   ],
   "source": [
    "qc.measure([0,1,2],[0,1,2])\n",
    "qc.barrier()\n",
    "\n",
    "#qc.h(0)\n",
    "qc.measure([0,1,2],[0,1,2])\n",
    "qc.draw()"
   ]
  },
  {
   "cell_type": "code",
   "execution_count": 10,
   "id": "26835e3c",
   "metadata": {},
   "outputs": [
    {
     "data": {
      "image/png": "[encoded data removed]",
      "text/plain": [
       "<Figure size 1110x264.88 with 1 Axes>"
      ]
     },
     "execution_count": 10,
     "metadata": {},
     "output_type": "execute_result"
    }
   ],
   "source": [
    "qc.draw(output = 'mpl')"
   ]
  },
  {
   "cell_type": "code",
   "execution_count": 11,
   "id": "32504013",
   "metadata": {},
   "outputs": [
    {
     "data": {
      "image/png": "[encoded data removed]",
      "text/plain": [
       "<Figure size 504x360 with 1 Axes>"
      ]
     },
     "execution_count": 11,
     "metadata": {},
     "output_type": "execute_result"
    }
   ],
   "source": [
    "backend = Aer.get_backend('qasm_simulator')\n",
    "\n",
    "result = execute(qc,backend,shots =10).result()\n",
    "\n",
    "counts = result.get_counts()\n",
    "\n",
    "plot_histogram(counts)"
   ]
  },
  {
   "cell_type": "code",
   "execution_count": null,
   "id": "ac7f7a7e",
   "metadata": {},
   "outputs": [],
   "source": []
  }
 ],
 "metadata": {
  "kernelspec": {
   "display_name": "Python 3 (ipykernel)",
   "language": "python",
   "name": "python3"
  },
  "language_info": {
   "codemirror_mode": {
    "name": "ipython",
    "version": 3
   },
   "file_extension": ".py",
   "mimetype": "text/x-python",
   "name": "python",
   "nbconvert_exporter": "python",
   "pygments_lexer": "ipython3",
   "version": "3.9.7"
  }
 },
 "nbformat": 4,
 "nbformat_minor": 5
}
